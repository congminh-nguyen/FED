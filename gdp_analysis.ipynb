{
 "cells": [
  {
   "cell_type": "markdown",
   "metadata": {},
   "source": [
    "# GDP Analysis\n"
   ]
  },
  {
   "cell_type": "markdown",
   "metadata": {},
   "source": [
    "## Load Data\n",
    "\n"
   ]
  },
  {
   "cell_type": "code",
   "execution_count": 1,
   "metadata": {},
   "outputs": [],
   "source": [
    "import pandas as pd\n",
    "import numpy as np\n",
    "import seaborn as sns\n",
    "import utils as u"
   ]
  },
  {
   "cell_type": "markdown",
   "metadata": {},
   "source": [
    "## Clean Data"
   ]
  },
  {
   "cell_type": "code",
   "execution_count": null,
   "metadata": {},
   "outputs": [],
   "source": [
    "# Load the data\n",
    "df = u.load_data(\"gdp_data.csv\")\n",
    "tidy_df = u.tidy_data(df)"
   ]
  },
  {
   "cell_type": "markdown",
   "metadata": {},
   "source": [
    "## Plot Data"
   ]
  },
  {
   "cell_type": "code",
   "execution_count": null,
   "metadata": {},
   "outputs": [],
   "source": [
    "u.line_plot(df=tidy_df, x='Year', y='GDP', hue='Country', title=\"Basic Line Plot\")"
   ]
  },
  {
   "cell_type": "markdown",
   "metadata": {},
   "source": [
    "We see convergence between China and US"
   ]
  },
  {
   "cell_type": "code",
   "execution_count": null,
   "metadata": {},
   "outputs": [],
   "source": [
    "u.pct_change_graph(df=tidy_df, x='Year', hue='Country', title=\"Pct Change GDP\")"
   ]
  },
  {
   "cell_type": "markdown",
   "metadata": {},
   "source": [
    "UK very sharply affected by covid. Chinese GDP % growth decreasing"
   ]
  },
  {
   "cell_type": "markdown",
   "metadata": {},
   "source": [
    "China has seen over 600% growth since 2000. No other country has broken 200%"
   ]
  },
  {
   "cell_type": "code",
   "execution_count": null,
   "metadata": {},
   "outputs": [],
   "source": [
    "u.indexed_graph(df=tidy_df, x='Year', hue='Country', title=\"Indexed GDP\")"
   ]
  },
  {
   "cell_type": "code",
   "execution_count": null,
   "metadata": {},
   "outputs": [],
   "source": [
    "# Indexed growth per country\n",
    "#tidy_df['Indexed GDP'] = tidy_df.groupby('Country')['GDP'].apply(lambda x: (x / x.iloc[0])*100)\n",
    "indexed_gdp = tidy_df.groupby('Country')['GDP'].apply(lambda x: (x / x.iloc[0]) * 100).reset_index(level=0, drop=True)\n",
    "#indexed_gdp.tail()\n",
    "\n",
    "tidy_df[\"Indexed GDP\"] = indexed_gdp"
   ]
  }
 ],
 "metadata": {
  "kernelspec": {
   "display_name": "gdp-analysis",
   "language": "python",
   "name": "python3"
  },
  "language_info": {
   "codemirror_mode": {
    "name": "ipython",
    "version": 3
   },
   "file_extension": ".py",
   "mimetype": "text/x-python",
   "name": "python",
   "nbconvert_exporter": "python",
   "pygments_lexer": "ipython3",
   "version": "3.10.15"
  }
 },
 "nbformat": 4,
 "nbformat_minor": 2
}
